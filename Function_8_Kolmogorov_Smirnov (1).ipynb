{
  "nbformat": 4,
  "nbformat_minor": 0,
  "metadata": {
    "colab": {
      "provenance": []
    },
    "kernelspec": {
      "name": "python3",
      "display_name": "Python 3"
    },
    "language_info": {
      "name": "python"
    }
  },
  "cells": [
    {
      "cell_type": "code",
      "execution_count": 2,
      "metadata": {
        "id": "1hln_YzUXdZE"
      },
      "outputs": [],
      "source": [
        "import numpy as np\n",
        "import pandas as pd\n",
        "\n",
        "def ks_test(X1, X2, flag=1):\n",
        "    \"\"\"\n",
        "    Performs Kolmogorov-Smirnov test between two samples.\n",
        "\n",
        "    Parameters:\n",
        "    -----------\n",
        "    X1 :\n",
        "        First sample (1D numpy array, list, or pandas Series).\n",
        "    X2 :\n",
        "        Second sample (1D numpy array, list, or pandas Series).\n",
        "    flag : int\n",
        "        1 = classical KS (maximum distance between CDFs)\n",
        "        2 = total KS (mean absolute difference between CDFs)\n",
        "\n",
        "    Returns:\n",
        "    --------\n",
        "    float\n",
        "        KS statistic based on the flag value.\n",
        "\n",
        "\n",
        "    \"\"\"\n",
        "    # Convert inputs to numpy arrays\n",
        "    X1 = np.asarray(X1).flatten()\n",
        "    X2 = np.asarray(X2).flatten()\n",
        "\n",
        "    # Create a combined sorted array of all values\n",
        "    all_values = np.sort(np.concatenate([X1, X2]))\n",
        "\n",
        "    # Calculate empirical CDFs for both samples\n",
        "    cdf1 = np.array([np.sum(X1 <= value) / len(X1) for value in all_values])\n",
        "    cdf2 = np.array([np.sum(X2 <= value) / len(X2) for value in all_values])\n",
        "\n",
        "    # Calculate absolute differences between CDFs\n",
        "    differences = np.abs(cdf1 - cdf2)\n",
        "\n",
        "    # Return statistic based on flag\n",
        "    if flag == 1:\n",
        "        # Classical KS: maximum distance\n",
        "        return np.max(differences)\n",
        "    elif flag == 2:\n",
        "        # Total KS: mean absolute difference\n",
        "        return np.mean(differences)\n",
        "    else:\n",
        "        raise ValueError(\"Flag must be 1 (classical KS) or 2 (total KS)\")"
      ]
    },
    {
      "cell_type": "code",
      "source": [
        "ks_test(100,33)"
      ],
      "metadata": {
        "colab": {
          "base_uri": "https://localhost:8080/"
        },
        "id": "PGcGsKe_XtFn",
        "outputId": "a0d5c266-f493-4346-9d3a-fbc1d45968c2"
      },
      "execution_count": 6,
      "outputs": [
        {
          "output_type": "execute_result",
          "data": {
            "text/plain": [
              "np.float64(1.0)"
            ]
          },
          "metadata": {},
          "execution_count": 6
        }
      ]
    },
    {
      "cell_type": "code",
      "source": [],
      "metadata": {
        "id": "RrThGVETX2lF"
      },
      "execution_count": null,
      "outputs": []
    }
  ]
}